{
 "cells": [
  {
   "cell_type": "code",
   "execution_count": 31,
   "metadata": {},
   "outputs": [],
   "source": [
    "import glob\n",
    "import pydicom as pdi\n",
    "import cv2 as cv\n",
    "import pandas as pd\n",
    "import numpy as np\n",
    "import matplotlib.pyplot as plt"
   ]
  },
  {
   "cell_type": "code",
   "execution_count": 48,
   "metadata": {},
   "outputs": [],
   "source": [
    "def dicom2ndarray(dicom):\n",
    "    img = pdi.read_file(dicom).pixel_array\n",
    "    return img\n",
    "\n",
    "def dicom2img(dicom):\n",
    "    img = dicom2ndarray(dicom)\n",
    "    plt.figure(figsize=(16,8))\n",
    "    plt.title(dicom)\n",
    "    plt.imshow(img, cmap='gray')"
   ]
  },
  {
   "cell_type": "code",
   "execution_count": 82,
   "metadata": {},
   "outputs": [],
   "source": [
    "dicom_path_notebook = r'../../Dataset/CBIS_DDSM/*/*/*/*.dcm'\n",
    "\n",
    "full_mammogram_dicom = r'../../Dataset/CBIS_DDSM/*/*/*full*/1-1.dcm'\n",
    "roi_mammogram_dicom = r'../../Dataset/CBIS_DDSM/*/*/*ROI*/1-1.dcm'\n",
    "mask_mammogram_dicom = r'../../Dataset/CBIS_DDSM/*/*/*ROI*/1-2.dcm'\n",
    "\n",
    "calc_test_description = r'../../Dataset/CBIS_DDSM/calc_case_description_test_set.csv'\n",
    "\n",
    "full_mammogram_path = glob.glob(full_mammogram_dicom)\n",
    "roi_mammogram_path  = glob.glob(roi_mammogram_dicom)\n",
    "mask_mammogram_path  = glob.glob(mask_mammogram_dicom)\n",
    "calc_test_csv = glob.glob(calc_test_description)"
   ]
  },
  {
   "cell_type": "code",
   "execution_count": 83,
   "metadata": {},
   "outputs": [
    {
     "data": {
      "text/plain": [
       "['../../Dataset/CBIS_DDSM/calc_case_description_test_set.csv']"
      ]
     },
     "execution_count": 83,
     "metadata": {},
     "output_type": "execute_result"
    }
   ],
   "source": [
    "calc_test_csv"
   ]
  },
  {
   "cell_type": "code",
   "execution_count": 51,
   "metadata": {
    "collapsed": true,
    "jupyter": {
     "outputs_hidden": true
    }
   },
   "outputs": [
    {
     "name": "stdout",
     "output_type": "stream",
     "text": [
      "['../../Dataset/CBIS_DDSM\\\\Calc-Test_P_00038_RIGHT_CC\\\\08-29-2017-DDSM-28468\\\\1.000000-full mammogram images-63304\\\\1-1.dcm', '../../Dataset/CBIS_DDSM\\\\Calc-Test_P_00038_RIGHT_MLO\\\\08-29-2017-DDSM-85215\\\\1.000000-full mammogram images-08846\\\\1-1.dcm', '../../Dataset/CBIS_DDSM\\\\Calc-Test_P_00041_LEFT_CC\\\\08-29-2017-DDSM-52275\\\\1.000000-full mammogram images-92812\\\\1-1.dcm']\n",
      "['../../Dataset/CBIS_DDSM\\\\Calc-Test_P_00038_RIGHT_CC_1\\\\08-29-2017-DDSM-83105\\\\1.000000-ROI mask images-37851\\\\1-1.dcm', '../../Dataset/CBIS_DDSM\\\\Calc-Test_P_00038_RIGHT_CC_2\\\\08-29-2017-DDSM-67143\\\\1.000000-ROI mask images-07570\\\\1-1.dcm', '../../Dataset/CBIS_DDSM\\\\Calc-Test_P_00038_RIGHT_MLO_1\\\\08-29-2017-DDSM-65172\\\\1.000000-ROI mask images-21714\\\\1-1.dcm', '../../Dataset/CBIS_DDSM\\\\Calc-Test_P_00038_RIGHT_MLO_2\\\\08-29-2017-DDSM-68463\\\\1.000000-ROI mask images-04551\\\\1-1.dcm', '../../Dataset/CBIS_DDSM\\\\Calc-Test_P_00041_LEFT_CC_2\\\\08-29-2017-DDSM-12775\\\\1.000000-ROI mask images-79220\\\\1-1.dcm']\n",
      "['../../Dataset/CBIS_DDSM\\\\Calc-Test_P_00038_RIGHT_CC_1\\\\08-29-2017-DDSM-83105\\\\1.000000-ROI mask images-37851\\\\1-2.dcm', '../../Dataset/CBIS_DDSM\\\\Calc-Test_P_00038_RIGHT_CC_2\\\\08-29-2017-DDSM-67143\\\\1.000000-ROI mask images-07570\\\\1-2.dcm', '../../Dataset/CBIS_DDSM\\\\Calc-Test_P_00038_RIGHT_MLO_1\\\\08-29-2017-DDSM-65172\\\\1.000000-ROI mask images-21714\\\\1-2.dcm', '../../Dataset/CBIS_DDSM\\\\Calc-Test_P_00038_RIGHT_MLO_2\\\\08-29-2017-DDSM-68463\\\\1.000000-ROI mask images-04551\\\\1-2.dcm', '../../Dataset/CBIS_DDSM\\\\Calc-Test_P_00041_LEFT_CC_2\\\\08-29-2017-DDSM-12775\\\\1.000000-ROI mask images-79220\\\\1-2.dcm']\n"
     ]
    }
   ],
   "source": [
    "# print(full_mammogram_path)\n",
    "# print(roi_mammogram_path)\n",
    "# print(mask_mammogram_path)"
   ]
  },
  {
   "cell_type": "code",
   "execution_count": 134,
   "metadata": {},
   "outputs": [],
   "source": [
    "# csv에서 roi mask의 ID들만 추출\n",
    "# 각 csv파일당 한번만 하면됨\n",
    "\n",
    "csv_df = pd.read_csv(calc_test_csv[0])\n",
    "ID_list = []\n",
    "for i in (csv_df['ROI mask file path']):\n",
    "    ID_list.append(i.split('/')[0])\n",
    "\n",
    "ID_ndr = np.array(ID_list)\n"
   ]
  },
  {
   "cell_type": "code",
   "execution_count": 123,
   "metadata": {},
   "outputs": [],
   "source": []
  },
  {
   "cell_type": "code",
   "execution_count": 162,
   "metadata": {},
   "outputs": [],
   "source": [
    "path = mask_mammogram_path[0]\n",
    "ID = mask_mammogram_path[0].split(\"\\\\\")[1]\n",
    "\n",
    "# csv내의 ID(ROI mask file path)와 Dicom파일의 ID를 매칭\n",
    "# np.argwhere 사용\n",
    "idx = np.argwhere(ID_ndr == ID)\n",
    "idx = idx[0][0]\n",
    "idx\n",
    "\n",
    "abnormal_type = csv_df.loc[idx][\"abnormality type\"]\n",
    "pathology = csv_df.loc[idx][\"pathology\"]\n",
    "\n",
    "# dicom file 내의 pixel data내에서 x,y,w,h 추출\n",
    "img = dicom2ndarray(mask_mammogram_path[0])\n",
    "\n",
    "test_info = cv.findNonZero(img)\n",
    "\n",
    "min_y = test_info[...,0].min()\n",
    "max_y = test_info[...,0].max()\n",
    "\n",
    "min_x = test_info[...,1].min()\n",
    "max_x = test_info[...,1].max()\n",
    "\n",
    "minLoc = (min_y,min_x)\n",
    "maxLoc = (max_y,max_x)\n",
    "\n",
    "x = min_x\n",
    "y = min_y\n",
    "width = max_x - min_x\n",
    "height = max_y - min_y\n",
    "\n",
    "\n",
    "full_info_dict = {\"path\" : path, \"ID\" : ID, \"abnormal_type\":abnormal_type, \"pathology\":pathology, \"x\":x, \"y\":y, \"width\":width, \"height\":height}\n",
    "full_info_list = [path, ID, abnormal_type, pathology, x, y, width, height]"
   ]
  },
  {
   "cell_type": "code",
   "execution_count": 165,
   "metadata": {},
   "outputs": [
    {
     "data": {
      "text/plain": [
       "['../../Dataset/CBIS_DDSM\\\\Calc-Test_P_00038_RIGHT_CC_1\\\\08-29-2017-DDSM-83105\\\\1.000000-ROI mask images-37851\\\\1-2.dcm',\n",
       " 'Calc-Test_P_00038_RIGHT_CC_1',\n",
       " 'calcification',\n",
       " 'BENIGN_WITHOUT_CALLBACK',\n",
       " 1024,\n",
       " 2104,\n",
       " 368,\n",
       " 632]"
      ]
     },
     "execution_count": 165,
     "metadata": {},
     "output_type": "execute_result"
    }
   ],
   "source": [
    "full_info_list"
   ]
  },
  {
   "cell_type": "code",
   "execution_count": 198,
   "metadata": {},
   "outputs": [
    {
     "ename": "TypeError",
     "evalue": "cannot concatenate object of type '<class 'dict'>'; only Series and DataFrame objs are valid",
     "output_type": "error",
     "traceback": [
      "\u001b[1;31m---------------------------------------------------------------------------\u001b[0m",
      "\u001b[1;31mTypeError\u001b[0m                                 Traceback (most recent call last)",
      "\u001b[1;32m<ipython-input-198-107ba75817ef>\u001b[0m in \u001b[0;36m<module>\u001b[1;34m\u001b[0m\n\u001b[0;32m      1\u001b[0m \u001b[1;31m#df = pd.DataFrame(index=[\"path\", \"ID\", \"abnormal_type\", \"pathology\", \"x\", \"y\", \"width\", \"height\"])\u001b[0m\u001b[1;33m\u001b[0m\u001b[1;33m\u001b[0m\u001b[1;33m\u001b[0m\u001b[0m\n\u001b[0;32m      2\u001b[0m \u001b[0mdf\u001b[0m \u001b[1;33m=\u001b[0m \u001b[0mpd\u001b[0m\u001b[1;33m.\u001b[0m\u001b[0mDataFrame\u001b[0m\u001b[1;33m(\u001b[0m\u001b[0mcolumns\u001b[0m\u001b[1;33m=\u001b[0m\u001b[1;33m[\u001b[0m\u001b[1;34m\"path\"\u001b[0m\u001b[1;33m,\u001b[0m \u001b[1;34m\"ID\"\u001b[0m\u001b[1;33m,\u001b[0m \u001b[1;34m\"abnormal_type\"\u001b[0m\u001b[1;33m,\u001b[0m \u001b[1;34m\"pathology\"\u001b[0m\u001b[1;33m,\u001b[0m \u001b[1;34m\"x\"\u001b[0m\u001b[1;33m,\u001b[0m \u001b[1;34m\"y\"\u001b[0m\u001b[1;33m,\u001b[0m \u001b[1;34m\"width\"\u001b[0m\u001b[1;33m,\u001b[0m \u001b[1;34m\"height\"\u001b[0m\u001b[1;33m]\u001b[0m\u001b[1;33m)\u001b[0m\u001b[1;33m\u001b[0m\u001b[1;33m\u001b[0m\u001b[0m\n\u001b[1;32m----> 3\u001b[1;33m \u001b[0mdf\u001b[0m \u001b[1;33m=\u001b[0m \u001b[0mpd\u001b[0m\u001b[1;33m.\u001b[0m\u001b[0mconcat\u001b[0m\u001b[1;33m(\u001b[0m\u001b[1;33m[\u001b[0m\u001b[0mdf\u001b[0m\u001b[1;33m,\u001b[0m\u001b[0mfull_info_dict\u001b[0m\u001b[1;33m]\u001b[0m\u001b[1;33m)\u001b[0m\u001b[1;33m\u001b[0m\u001b[1;33m\u001b[0m\u001b[0m\n\u001b[0m\u001b[0;32m      4\u001b[0m \u001b[0mdf\u001b[0m\u001b[1;33m\u001b[0m\u001b[1;33m\u001b[0m\u001b[0m\n",
      "\u001b[1;32m~\\Miniconda3\\envs\\tf2\\lib\\site-packages\\pandas\\core\\reshape\\concat.py\u001b[0m in \u001b[0;36mconcat\u001b[1;34m(objs, axis, join, ignore_index, keys, levels, names, verify_integrity, sort, copy)\u001b[0m\n\u001b[0;32m    279\u001b[0m         \u001b[0mverify_integrity\u001b[0m\u001b[1;33m=\u001b[0m\u001b[0mverify_integrity\u001b[0m\u001b[1;33m,\u001b[0m\u001b[1;33m\u001b[0m\u001b[1;33m\u001b[0m\u001b[0m\n\u001b[0;32m    280\u001b[0m         \u001b[0mcopy\u001b[0m\u001b[1;33m=\u001b[0m\u001b[0mcopy\u001b[0m\u001b[1;33m,\u001b[0m\u001b[1;33m\u001b[0m\u001b[1;33m\u001b[0m\u001b[0m\n\u001b[1;32m--> 281\u001b[1;33m         \u001b[0msort\u001b[0m\u001b[1;33m=\u001b[0m\u001b[0msort\u001b[0m\u001b[1;33m,\u001b[0m\u001b[1;33m\u001b[0m\u001b[1;33m\u001b[0m\u001b[0m\n\u001b[0m\u001b[0;32m    282\u001b[0m     )\n\u001b[0;32m    283\u001b[0m \u001b[1;33m\u001b[0m\u001b[0m\n",
      "\u001b[1;32m~\\Miniconda3\\envs\\tf2\\lib\\site-packages\\pandas\\core\\reshape\\concat.py\u001b[0m in \u001b[0;36m__init__\u001b[1;34m(self, objs, axis, join, keys, levels, names, ignore_index, verify_integrity, copy, sort)\u001b[0m\n\u001b[0;32m    355\u001b[0m                     \u001b[1;34m\"only Series and DataFrame objs are valid\"\u001b[0m\u001b[1;33m.\u001b[0m\u001b[0mformat\u001b[0m\u001b[1;33m(\u001b[0m\u001b[0mtyp\u001b[0m\u001b[1;33m=\u001b[0m\u001b[0mtype\u001b[0m\u001b[1;33m(\u001b[0m\u001b[0mobj\u001b[0m\u001b[1;33m)\u001b[0m\u001b[1;33m)\u001b[0m\u001b[1;33m\u001b[0m\u001b[1;33m\u001b[0m\u001b[0m\n\u001b[0;32m    356\u001b[0m                 )\n\u001b[1;32m--> 357\u001b[1;33m                 \u001b[1;32mraise\u001b[0m \u001b[0mTypeError\u001b[0m\u001b[1;33m(\u001b[0m\u001b[0mmsg\u001b[0m\u001b[1;33m)\u001b[0m\u001b[1;33m\u001b[0m\u001b[1;33m\u001b[0m\u001b[0m\n\u001b[0m\u001b[0;32m    358\u001b[0m \u001b[1;33m\u001b[0m\u001b[0m\n\u001b[0;32m    359\u001b[0m             \u001b[1;31m# consolidate\u001b[0m\u001b[1;33m\u001b[0m\u001b[1;33m\u001b[0m\u001b[1;33m\u001b[0m\u001b[0m\n",
      "\u001b[1;31mTypeError\u001b[0m: cannot concatenate object of type '<class 'dict'>'; only Series and DataFrame objs are valid"
     ]
    }
   ],
   "source": [
    "#df = pd.DataFrame(index=[\"path\", \"ID\", \"abnormal_type\", \"pathology\", \"x\", \"y\", \"width\", \"height\"])\n",
    "df = pd.DataFrame(columns=[\"path\", \"ID\", \"abnormal_type\", \"pathology\", \"x\", \"y\", \"width\", \"height\"])\n",
    "df = pd.concat([df,full_info_dict])\n",
    "df"
   ]
  },
  {
   "cell_type": "code",
   "execution_count": 202,
   "metadata": {},
   "outputs": [
    {
     "ename": "ValueError",
     "evalue": "If using all scalar values, you must pass an index",
     "output_type": "error",
     "traceback": [
      "\u001b[1;31m---------------------------------------------------------------------------\u001b[0m",
      "\u001b[1;31mValueError\u001b[0m                                Traceback (most recent call last)",
      "\u001b[1;32m<ipython-input-202-8ed768b77890>\u001b[0m in \u001b[0;36m<module>\u001b[1;34m\u001b[0m\n\u001b[1;32m----> 1\u001b[1;33m \u001b[0mpd\u001b[0m\u001b[1;33m.\u001b[0m\u001b[0mDataFrame\u001b[0m\u001b[1;33m(\u001b[0m\u001b[0mfull_info_dict\u001b[0m\u001b[1;33m,\u001b[0m\u001b[0mcolumns\u001b[0m\u001b[1;33m=\u001b[0m\u001b[1;33m[\u001b[0m\u001b[1;34m\"path\"\u001b[0m\u001b[1;33m,\u001b[0m \u001b[1;34m\"ID\"\u001b[0m\u001b[1;33m,\u001b[0m \u001b[1;34m\"abnormal_type\"\u001b[0m\u001b[1;33m,\u001b[0m \u001b[1;34m\"pathology\"\u001b[0m\u001b[1;33m,\u001b[0m \u001b[1;34m\"x\"\u001b[0m\u001b[1;33m,\u001b[0m \u001b[1;34m\"y\"\u001b[0m\u001b[1;33m,\u001b[0m \u001b[1;34m\"width\"\u001b[0m\u001b[1;33m,\u001b[0m \u001b[1;34m\"height\"\u001b[0m\u001b[1;33m]\u001b[0m\u001b[1;33m)\u001b[0m\u001b[1;33m\u001b[0m\u001b[1;33m\u001b[0m\u001b[0m\n\u001b[0m",
      "\u001b[1;32m~\\Miniconda3\\envs\\tf2\\lib\\site-packages\\pandas\\core\\frame.py\u001b[0m in \u001b[0;36m__init__\u001b[1;34m(self, data, index, columns, dtype, copy)\u001b[0m\n\u001b[0;32m    433\u001b[0m             )\n\u001b[0;32m    434\u001b[0m         \u001b[1;32melif\u001b[0m \u001b[0misinstance\u001b[0m\u001b[1;33m(\u001b[0m\u001b[0mdata\u001b[0m\u001b[1;33m,\u001b[0m \u001b[0mdict\u001b[0m\u001b[1;33m)\u001b[0m\u001b[1;33m:\u001b[0m\u001b[1;33m\u001b[0m\u001b[1;33m\u001b[0m\u001b[0m\n\u001b[1;32m--> 435\u001b[1;33m             \u001b[0mmgr\u001b[0m \u001b[1;33m=\u001b[0m \u001b[0minit_dict\u001b[0m\u001b[1;33m(\u001b[0m\u001b[0mdata\u001b[0m\u001b[1;33m,\u001b[0m \u001b[0mindex\u001b[0m\u001b[1;33m,\u001b[0m \u001b[0mcolumns\u001b[0m\u001b[1;33m,\u001b[0m \u001b[0mdtype\u001b[0m\u001b[1;33m=\u001b[0m\u001b[0mdtype\u001b[0m\u001b[1;33m)\u001b[0m\u001b[1;33m\u001b[0m\u001b[1;33m\u001b[0m\u001b[0m\n\u001b[0m\u001b[0;32m    436\u001b[0m         \u001b[1;32melif\u001b[0m \u001b[0misinstance\u001b[0m\u001b[1;33m(\u001b[0m\u001b[0mdata\u001b[0m\u001b[1;33m,\u001b[0m \u001b[0mma\u001b[0m\u001b[1;33m.\u001b[0m\u001b[0mMaskedArray\u001b[0m\u001b[1;33m)\u001b[0m\u001b[1;33m:\u001b[0m\u001b[1;33m\u001b[0m\u001b[1;33m\u001b[0m\u001b[0m\n\u001b[0;32m    437\u001b[0m             \u001b[1;32mimport\u001b[0m \u001b[0mnumpy\u001b[0m\u001b[1;33m.\u001b[0m\u001b[0mma\u001b[0m\u001b[1;33m.\u001b[0m\u001b[0mmrecords\u001b[0m \u001b[1;32mas\u001b[0m \u001b[0mmrecords\u001b[0m\u001b[1;33m\u001b[0m\u001b[1;33m\u001b[0m\u001b[0m\n",
      "\u001b[1;32m~\\Miniconda3\\envs\\tf2\\lib\\site-packages\\pandas\\core\\internals\\construction.py\u001b[0m in \u001b[0;36minit_dict\u001b[1;34m(data, index, columns, dtype)\u001b[0m\n\u001b[0;32m    226\u001b[0m             \u001b[1;31m# GH10856\u001b[0m\u001b[1;33m\u001b[0m\u001b[1;33m\u001b[0m\u001b[1;33m\u001b[0m\u001b[0m\n\u001b[0;32m    227\u001b[0m             \u001b[1;31m# raise ValueError if only scalars in dict\u001b[0m\u001b[1;33m\u001b[0m\u001b[1;33m\u001b[0m\u001b[1;33m\u001b[0m\u001b[0m\n\u001b[1;32m--> 228\u001b[1;33m             \u001b[0mindex\u001b[0m \u001b[1;33m=\u001b[0m \u001b[0mextract_index\u001b[0m\u001b[1;33m(\u001b[0m\u001b[0marrays\u001b[0m\u001b[1;33m[\u001b[0m\u001b[1;33m~\u001b[0m\u001b[0mmissing\u001b[0m\u001b[1;33m]\u001b[0m\u001b[1;33m)\u001b[0m\u001b[1;33m\u001b[0m\u001b[1;33m\u001b[0m\u001b[0m\n\u001b[0m\u001b[0;32m    229\u001b[0m         \u001b[1;32melse\u001b[0m\u001b[1;33m:\u001b[0m\u001b[1;33m\u001b[0m\u001b[1;33m\u001b[0m\u001b[0m\n\u001b[0;32m    230\u001b[0m             \u001b[0mindex\u001b[0m \u001b[1;33m=\u001b[0m \u001b[0mensure_index\u001b[0m\u001b[1;33m(\u001b[0m\u001b[0mindex\u001b[0m\u001b[1;33m)\u001b[0m\u001b[1;33m\u001b[0m\u001b[1;33m\u001b[0m\u001b[0m\n",
      "\u001b[1;32m~\\Miniconda3\\envs\\tf2\\lib\\site-packages\\pandas\\core\\internals\\construction.py\u001b[0m in \u001b[0;36mextract_index\u001b[1;34m(data)\u001b[0m\n\u001b[0;32m    353\u001b[0m \u001b[1;33m\u001b[0m\u001b[0m\n\u001b[0;32m    354\u001b[0m         \u001b[1;32mif\u001b[0m \u001b[1;32mnot\u001b[0m \u001b[0mindexes\u001b[0m \u001b[1;32mand\u001b[0m \u001b[1;32mnot\u001b[0m \u001b[0mraw_lengths\u001b[0m\u001b[1;33m:\u001b[0m\u001b[1;33m\u001b[0m\u001b[1;33m\u001b[0m\u001b[0m\n\u001b[1;32m--> 355\u001b[1;33m             \u001b[1;32mraise\u001b[0m \u001b[0mValueError\u001b[0m\u001b[1;33m(\u001b[0m\u001b[1;34m\"If using all scalar values, you must pass an index\"\u001b[0m\u001b[1;33m)\u001b[0m\u001b[1;33m\u001b[0m\u001b[1;33m\u001b[0m\u001b[0m\n\u001b[0m\u001b[0;32m    356\u001b[0m \u001b[1;33m\u001b[0m\u001b[0m\n\u001b[0;32m    357\u001b[0m         \u001b[1;32mif\u001b[0m \u001b[0mhave_series\u001b[0m\u001b[1;33m:\u001b[0m\u001b[1;33m\u001b[0m\u001b[1;33m\u001b[0m\u001b[0m\n",
      "\u001b[1;31mValueError\u001b[0m: If using all scalar values, you must pass an index"
     ]
    }
   ],
   "source": [
    "pd.DataFrame(full_info_dict,columns=[\"path\", \"ID\", \"abnormal_type\", \"pathology\", \"x\", \"y\", \"width\", \"height\"])"
   ]
  },
  {
   "cell_type": "code",
   "execution_count": null,
   "metadata": {},
   "outputs": [],
   "source": []
  }
 ],
 "metadata": {
  "kernelspec": {
   "display_name": "Python 3",
   "language": "python",
   "name": "python3"
  },
  "language_info": {
   "codemirror_mode": {
    "name": "ipython",
    "version": 3
   },
   "file_extension": ".py",
   "mimetype": "text/x-python",
   "name": "python",
   "nbconvert_exporter": "python",
   "pygments_lexer": "ipython3",
   "version": "3.7.6"
  }
 },
 "nbformat": 4,
 "nbformat_minor": 4
}
