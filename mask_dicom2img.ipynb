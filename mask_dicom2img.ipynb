{
 "cells": [
  {
   "cell_type": "code",
   "execution_count": 1,
   "metadata": {},
   "outputs": [],
   "source": [
    "import cv2 as cv\n",
    "import matplotlib.pyplot as plt\n",
    "import tensorflow as tf\n",
    "import numpy as np\n",
    "import pandas as pd\n",
    "import glob"
   ]
  },
  {
   "cell_type": "code",
   "execution_count": 2,
   "metadata": {},
   "outputs": [],
   "source": [
    "import pydicom as pdi\n",
    "import tensorflow_io as tfio"
   ]
  },
  {
   "cell_type": "code",
   "execution_count": 3,
   "metadata": {},
   "outputs": [],
   "source": [
    "dicom_path = r'D:\\Gproject\\DataSet\\test_data\\CBIS-DDSM\\*\\*\\*\\*'\n",
    "label_path = r'D:\\Gproject\\DataSet\\test_data'"
   ]
  },
  {
   "cell_type": "code",
   "execution_count": 42,
   "metadata": {},
   "outputs": [],
   "source": [
    "dicom_mask_path = r'D:\\Gproject\\DataSet\\test_data\\CBIS-DDSM\\*\\*\\*\\1-2.dcm'\n"
   ]
  },
  {
   "cell_type": "code",
   "execution_count": 87,
   "metadata": {},
   "outputs": [],
   "source": [
    "dicom_mask_path_00 = glob.glob(dicom_mask_path)[0]\n",
    "dicom_mask_path_00_ID = dicom_mask_path_00.split('\\\\')[5]\n",
    "mask_ID, mask_slice = dicom_mask_path_00_ID[2], dicom_mask_path_00_ID[4]"
   ]
  },
  {
   "cell_type": "code",
   "execution_count": 61,
   "metadata": {},
   "outputs": [],
   "source": [
    "dicom_full_path_00 = glob.glob(dicom_full_path)[0]\n",
    "dicom_full_path_00_ID = dicom_full_path_00.split('\\\\')[5].split(\"_\")\n",
    "full_ID, full_slice = dicom_full_path_00_ID[2], dicom_full_path_00_ID[4]\n",
    "\n"
   ]
  },
  {
   "cell_type": "code",
   "execution_count": 108,
   "metadata": {},
   "outputs": [],
   "source": [
    "\n",
    "# dicom path를 입력으로 받아서 img반환 (ndarray)\n",
    "# normalize추가(full 이미지 normalize)\n",
    "def dcm2img_norm(dcm_path):\n",
    "    image_bytes = tf.io.read_file(dcm_path)\n",
    "    \n",
    "    decode_img_lossy = tfio.image.decode_dicom_image(image_bytes,scale='auto',on_error='lossy', dtype=tf.uint8)\n",
    "    #############################################################################################\n",
    "    # args\n",
    "    # scale : datatype 변형시 fill stretching \n",
    "    # on_error : dtype uint 16 -> 8할때 error 방지\n",
    "    #############################################################################################\n",
    "    decode_img_lossy_ndr = decode_img_lossy.numpy()\n",
    "    decode_img_lossy_ndr_norm = decode_img_lossy_ndr[0,...,0]/255\n",
    "    #decode_img_lossy_ndr_norm_add_axis = decode_img_lossy_ndr_norm[np.newaxis,...,np.newaxis]\n",
    "    return decode_img_lossy_ndr_norm\n",
    "\n",
    "# dicom path를 입력으로 받아서 img반환 (ndarray)\n",
    "# normalzize 미포함(mask 이미지)\n",
    "def dcm2img(dcm_path):\n",
    "    image_bytes = tf.io.read_file(dcm_path)\n",
    "    \n",
    "    decode_img_lossy = tfio.image.decode_dicom_image(image_bytes,scale='auto',on_error='lossy', dtype=tf.uint8)\n",
    "    #############################################################################################\n",
    "    # args\n",
    "    # scale : datatype 변형시 fill stretching \n",
    "    # on_error : dtype uint 16 -> 8할때 error 방지\n",
    "    #############################################################################################\n",
    "    decode_img_lossy_ndr = decode_img_lossy.numpy()\n",
    "    #decode_img_lossy_ndr_norm = decode_img_lossy_ndr[0,...,0]/255\n",
    "    #decode_img_lossy_ndr_norm_add_axis = decode_img_lossy_ndr_norm[np.newaxis,...,np.newaxis]\n",
    "    return decode_img_lossy_ndr"
   ]
  },
  {
   "cell_type": "code",
   "execution_count": null,
   "metadata": {},
   "outputs": [],
   "source": []
  },
  {
   "cell_type": "code",
   "execution_count": 92,
   "metadata": {},
   "outputs": [],
   "source": [
    "dsize = (1500,2300)\n",
    "\n",
    "# input : dcm full mammography\n",
    "# output : png file\n",
    "\n",
    "dicom_full_path = r'D:\\Gproject\\DataSet\\tcia_data\\CBIS-DDSM\\*\\*\\*full*\\1-1.dcm'\n",
    "output_path = r'D:\\Gproject\\DataSet\\tcia_data\\imgs'\n",
    "count = 0\n",
    "for dcm in glob.glob(dicom_full_path):\n",
    "    \n",
    "    # 파일명 slicing\n",
    "    dicom_full_path_ID = dcm.split('\\\\')[5]\n",
    "    \n",
    "    # dcm -> img(ndrrray)\n",
    "    img = dcm2img_norm(dcm)\n",
    "    \n",
    "    # TODO : resize 가능한가\n",
    "    img_resize = cv.resize(img,dsize,interpolation = cv.INTER_AREA)\n",
    "    \n",
    "    # 저장파일명\n",
    "    output_name = output_path + \"\\\\\"+ dicom_full_path_ID + \"_full\"+ \".png\"\n",
    "    plt.imsave(output_name, img_resize,cmap = 'gray')\n",
    "\n",
    "    \n",
    "# input : dcm mask mammography\n",
    "# output : png file\n",
    "\n",
    "dicom_mask_path = r'D:\\Gproject\\DataSet\\tcia_data\\CBIS-DDSM\\*\\*\\*mask*\\1-2.dcm'\n",
    "output_path = r'D:\\Gproject\\DataSet\\tcia_data\\imgs'\n",
    "count = 0\n",
    "for dcm in glob.glob(dicom_mask_path):\n",
    "    \n",
    "    # 파일명 slicing\n",
    "    dicom_mask_path_ID = dcm.split('\\\\')[5]\n",
    "    \n",
    "    # dcm -> img(ndrrray)\n",
    "    img = dcm2img(dcm)\n",
    "    \n",
    "    # dicom mass train 에서 1-1.dcm과 1-2.dcm사이 매칭이 잘못되있음 --> 해결\n",
    "    ##################################################\n",
    "    if img.shape[0] < 2000 or img.shape[1] < 2000:\n",
    "        print(\"*Changed*\")\n",
    "        str_list = dcm.split('\\\\')\n",
    "        str_list.pop()\n",
    "        str_list.append('1-1.dcm')\n",
    "        dcm = str_list[0]+\"\\\\\" + str_list[1]+\"\\\\\" + str_list[2]+\"\\\\\" + str_list[3]+\"\\\\\"  + str_list[4] +\"\\\\\" + str_list[5]+\"\\\\\" + str_list[6]+\"\\\\\" + str_list[7]+\"\\\\\" + str_list[8] \n",
    "        img = dcm2img_norm(dcm)\n",
    "    ##################################################\n",
    "    \n",
    "    #full 이미지와 동일한 크기로 resize\n",
    "    # TODO : resize 가능한가\n",
    "    img_resize = cv.resize(img,dsize,interpolation = cv.INTER_AREA)\n",
    "    \n",
    "    # 저장파일명\n",
    "    output_name = output_path + \"\\\\\"+ dicom_mask_path_ID + \"_mask\"+ \".png\"\n",
    "    plt.imsave(output_name, img_resize,cmap = 'gray')\n",
    "    \n",
    "    print(\"Src path :\", dcm)\n",
    "    print(\"Dst path :\", output_name)\n",
    "    print(\"img shape : \", img.shape)\n",
    "    print(\"img resize : \", img_resize.shape)\n",
    "    print(\"\\n\\n\")\n",
    "    "
   ]
  }
 ],
 "metadata": {
  "kernelspec": {
   "display_name": "Python 3",
   "language": "python",
   "name": "python3"
  },
  "language_info": {
   "codemirror_mode": {
    "name": "ipython",
    "version": 3
   },
   "file_extension": ".py",
   "mimetype": "text/x-python",
   "name": "python",
   "nbconvert_exporter": "python",
   "pygments_lexer": "ipython3",
   "version": "3.7.7"
  }
 },
 "nbformat": 4,
 "nbformat_minor": 4
}
