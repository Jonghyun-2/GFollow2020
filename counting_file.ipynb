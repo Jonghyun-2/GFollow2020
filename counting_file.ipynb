{
 "cells": [
  {
   "cell_type": "code",
   "execution_count": 1,
   "metadata": {},
   "outputs": [],
   "source": [
    "import glob"
   ]
  },
  {
   "cell_type": "markdown",
   "metadata": {},
   "source": [
    "### full img counting\n",
    "---\n",
    "\n",
    "* full mammo img = 3103\n",
    "* full calc img = 1511\n",
    "* full mass img = 1592"
   ]
  },
  {
   "cell_type": "code",
   "execution_count": 8,
   "metadata": {},
   "outputs": [],
   "source": [
    "full_path = glob.glob('../../DataSet/tcia_data/CBIS-DDSM/*/*/1.000000-full*/1-1.dcm')\n",
    "full_calc_path = glob.glob('../../DataSet/tcia_data/CBIS-DDSM/Calc*/*/1.000000-full*/1-1.dcm')\n",
    "full_mass_path = glob.glob('../../DataSet/tcia_data/CBIS-DDSM/Mass*/*/1.000000-full*/1-1.dcm')"
   ]
  },
  {
   "cell_type": "code",
   "execution_count": 9,
   "metadata": {},
   "outputs": [
    {
     "data": {
      "text/plain": [
       "3103"
      ]
     },
     "execution_count": 9,
     "metadata": {},
     "output_type": "execute_result"
    }
   ],
   "source": [
    "len(full_path)"
   ]
  },
  {
   "cell_type": "code",
   "execution_count": 10,
   "metadata": {},
   "outputs": [
    {
     "data": {
      "text/plain": [
       "1511"
      ]
     },
     "execution_count": 10,
     "metadata": {},
     "output_type": "execute_result"
    }
   ],
   "source": [
    "len(full_calc_path)"
   ]
  },
  {
   "cell_type": "code",
   "execution_count": 11,
   "metadata": {},
   "outputs": [
    {
     "data": {
      "text/plain": [
       "1592"
      ]
     },
     "execution_count": 11,
     "metadata": {},
     "output_type": "execute_result"
    }
   ],
   "source": [
    "len(full_mass_path)"
   ]
  },
  {
   "cell_type": "code",
   "execution_count": 13,
   "metadata": {},
   "outputs": [
    {
     "data": {
      "text/plain": [
       "10239"
      ]
     },
     "execution_count": 13,
     "metadata": {},
     "output_type": "execute_result"
    }
   ],
   "source": [
    "full_dcm_path = glob.glob('../../DataSet/tcia_data/CBIS-DDSM/*/*/*/*')\n",
    "len(full_dcm_path)"
   ]
  },
  {
   "cell_type": "code",
   "execution_count": 23,
   "metadata": {},
   "outputs": [],
   "source": [
    "roi_path = glob.glob('../../DataSet/tcia_data/CBIS-DDSM/*/*/1.000000-ROI*/1-2.dcm')\n",
    "mask_path = glob.glob('../../DataSet/tcia_data/CBIS-DDSM/*/*/1.000000-ROI*/1-1.dcm')"
   ]
  },
  {
   "cell_type": "code",
   "execution_count": 24,
   "metadata": {},
   "outputs": [
    {
     "data": {
      "text/plain": [
       "3461"
      ]
     },
     "execution_count": 24,
     "metadata": {},
     "output_type": "execute_result"
    }
   ],
   "source": [
    "len(roi_path)"
   ]
  },
  {
   "cell_type": "code",
   "execution_count": 25,
   "metadata": {},
   "outputs": [
    {
     "data": {
      "text/plain": [
       "3565"
      ]
     },
     "execution_count": 25,
     "metadata": {},
     "output_type": "execute_result"
    }
   ],
   "source": [
    "len(mask_path)"
   ]
  },
  {
   "cell_type": "code",
   "execution_count": 46,
   "metadata": {},
   "outputs": [],
   "source": [
    "a = glob.glob('../../DataSet/tcia_data/CBIS-DDSM/*/*/1.000000-full*/*')"
   ]
  },
  {
   "cell_type": "code",
   "execution_count": 47,
   "metadata": {},
   "outputs": [
    {
     "data": {
      "text/plain": [
       "3103"
      ]
     },
     "execution_count": 47,
     "metadata": {},
     "output_type": "execute_result"
    }
   ],
   "source": [
    "len(a)"
   ]
  },
  {
   "cell_type": "code",
   "execution_count": 48,
   "metadata": {},
   "outputs": [
    {
     "data": {
      "text/plain": [
       "7026"
      ]
     },
     "execution_count": 48,
     "metadata": {},
     "output_type": "execute_result"
    }
   ],
   "source": [
    "b = glob.glob('../../DataSet/tcia_data/CBIS-DDSM/*/*/1.000000-ROI*/*')\n",
    "len(b)"
   ]
  },
  {
   "cell_type": "code",
   "execution_count": 80,
   "metadata": {},
   "outputs": [
    {
     "data": {
      "text/plain": [
       "10239"
      ]
     },
     "execution_count": 80,
     "metadata": {},
     "output_type": "execute_result"
    }
   ],
   "source": [
    "c = glob.glob('../../DataSet/tcia_data/CBIS-DDSM/*/*/*/*')\n",
    "len(c)"
   ]
  },
  {
   "cell_type": "code",
   "execution_count": 71,
   "metadata": {},
   "outputs": [
    {
     "data": {
      "text/plain": [
       "['1.000000-ROI', 'mask', 'images-18515']"
      ]
     },
     "execution_count": 71,
     "metadata": {},
     "output_type": "execute_result"
    }
   ],
   "source": [
    "c[0].split(\"\\\\\")[-2].split(' ')[0]\n",
    "c[0].split(\"\\\\\")[-2].split(\" \")"
   ]
  },
  {
   "cell_type": "code",
   "execution_count": 82,
   "metadata": {},
   "outputs": [],
   "source": [
    "cropped_img = []\n",
    "for i in c:\n",
    "    if i.split('\\\\')[-2].split(\" \")[0] == '1.000000-ROI' :\n",
    "        pass\n",
    "    elif i.split(\"\\\\\")[-2].split(' ')[0] == '1.000000-full':\n",
    "        pass\n",
    "    else:\n",
    "        cropped_img.append(i)"
   ]
  },
  {
   "cell_type": "code",
   "execution_count": 84,
   "metadata": {},
   "outputs": [
    {
     "data": {
      "text/plain": [
       "['../../DataSet/tcia_data/CBIS-DDSM\\\\Calc-Training_P_00005_RIGHT_CC_1\\\\08-30-2017-DDSM-09081\\\\1.000000-cropped images-94682\\\\1-1.dcm',\n",
       " '../../DataSet/tcia_data/CBIS-DDSM\\\\Calc-Training_P_00005_RIGHT_CC_1\\\\08-30-2017-DDSM-09081\\\\1.000000-cropped images-94682\\\\1-2.dcm',\n",
       " '../../DataSet/tcia_data/CBIS-DDSM\\\\Calc-Training_P_00474_LEFT_MLO_1\\\\09-21-2017-DDSM-11708\\\\1.000000-cropped images-23803\\\\1-1.dcm',\n",
       " '../../DataSet/tcia_data/CBIS-DDSM\\\\Mass-Test_P_00016_LEFT_CC_1\\\\10-04-2016-DDSM-09887\\\\1.000000-cropped images-26184\\\\1-1.dcm',\n",
       " '../../DataSet/tcia_data/CBIS-DDSM\\\\Mass-Test_P_00016_LEFT_CC_1\\\\10-04-2016-DDSM-09887\\\\1.000000-cropped images-26184\\\\1-2.dcm',\n",
       " '../../DataSet/tcia_data/CBIS-DDSM\\\\Mass-Test_P_00016_LEFT_MLO_1\\\\10-04-2016-DDSM-15563\\\\1.000000-cropped images-77287\\\\1-1.dcm',\n",
       " '../../DataSet/tcia_data/CBIS-DDSM\\\\Mass-Test_P_00016_LEFT_MLO_1\\\\10-04-2016-DDSM-15563\\\\1.000000-cropped images-77287\\\\1-2.dcm',\n",
       " '../../DataSet/tcia_data/CBIS-DDSM\\\\Mass-Test_P_00145_LEFT_CC_1\\\\10-04-2016-DDSM-90238\\\\1.000000-cropped images-53302\\\\1-1.dcm',\n",
       " '../../DataSet/tcia_data/CBIS-DDSM\\\\Mass-Test_P_00145_LEFT_MLO_1\\\\10-04-2016-DDSM-02159\\\\1.000000-cropped images-45939\\\\1-1.dcm',\n",
       " '../../DataSet/tcia_data/CBIS-DDSM\\\\Mass-Test_P_00192_RIGHT_CC_1\\\\10-04-2016-DDSM-93411\\\\1.000000-cropped images-15517\\\\1-1.dcm',\n",
       " '../../DataSet/tcia_data/CBIS-DDSM\\\\Mass-Test_P_00381_LEFT_CC_1\\\\10-04-2016-DDSM-29319\\\\1.000000-cropped images-93599\\\\1-1.dcm',\n",
       " '../../DataSet/tcia_data/CBIS-DDSM\\\\Mass-Test_P_00381_LEFT_MLO_1\\\\10-04-2016-DDSM-84629\\\\1.000000-cropped images-93691\\\\1-1.dcm',\n",
       " '../../DataSet/tcia_data/CBIS-DDSM\\\\Mass-Test_P_00699_RIGHT_CC_1\\\\10-04-2016-DDSM-05854\\\\1.000000-cropped images-54686\\\\1-1.dcm',\n",
       " '../../DataSet/tcia_data/CBIS-DDSM\\\\Mass-Test_P_00699_RIGHT_MLO_1\\\\10-04-2016-DDSM-05979\\\\1.000000-cropped images-47231\\\\1-1.dcm',\n",
       " '../../DataSet/tcia_data/CBIS-DDSM\\\\Mass-Test_P_00922_RIGHT_CC_1\\\\10-04-2016-DDSM-38722\\\\1.000000-cropped images-74184\\\\1-1.dcm',\n",
       " '../../DataSet/tcia_data/CBIS-DDSM\\\\Mass-Test_P_00922_RIGHT_MLO_1\\\\10-04-2016-DDSM-72067\\\\1.000000-cropped images-55654\\\\1-1.dcm',\n",
       " '../../DataSet/tcia_data/CBIS-DDSM\\\\Mass-Test_P_01595_LEFT_CC_1\\\\10-04-2016-DDSM-59071\\\\1.000000-cropped images-65092\\\\1-1.dcm',\n",
       " '../../DataSet/tcia_data/CBIS-DDSM\\\\Mass-Test_P_01595_LEFT_MLO_1\\\\10-04-2016-DDSM-00195\\\\1.000000-cropped images-68765\\\\1-1.dcm',\n",
       " '../../DataSet/tcia_data/CBIS-DDSM\\\\Mass-Training_P_00059_LEFT_CC_1\\\\07-20-2016-DDSM-17695\\\\1.000000-cropped images-02767\\\\1-1.dcm',\n",
       " '../../DataSet/tcia_data/CBIS-DDSM\\\\Mass-Training_P_00059_LEFT_MLO_1\\\\07-20-2016-DDSM-17686\\\\1.000000-cropped images-94902\\\\1-1.dcm',\n",
       " '../../DataSet/tcia_data/CBIS-DDSM\\\\Mass-Training_P_00108_LEFT_CC_1\\\\07-20-2016-DDSM-96185\\\\1.000000-cropped images-42631\\\\1-1.dcm',\n",
       " '../../DataSet/tcia_data/CBIS-DDSM\\\\Mass-Training_P_00108_LEFT_MLO_1\\\\07-20-2016-DDSM-43543\\\\1.000000-cropped images-71981\\\\1-1.dcm',\n",
       " '../../DataSet/tcia_data/CBIS-DDSM\\\\Mass-Training_P_00279_LEFT_CC_1\\\\07-20-2016-DDSM-71114\\\\1.000000-cropped images-69958\\\\1-1.dcm',\n",
       " '../../DataSet/tcia_data/CBIS-DDSM\\\\Mass-Training_P_00294_LEFT_CC_1\\\\07-20-2016-DDSM-52889\\\\1.000000-cropped images-80692\\\\1-1.dcm',\n",
       " '../../DataSet/tcia_data/CBIS-DDSM\\\\Mass-Training_P_00294_LEFT_MLO_1\\\\07-20-2016-DDSM-31600\\\\1.000000-cropped images-55989\\\\1-1.dcm',\n",
       " '../../DataSet/tcia_data/CBIS-DDSM\\\\Mass-Training_P_00303_LEFT_CC_1\\\\07-20-2016-DDSM-71993\\\\1.000000-cropped images-35295\\\\1-1.dcm',\n",
       " '../../DataSet/tcia_data/CBIS-DDSM\\\\Mass-Training_P_00303_LEFT_MLO_1\\\\07-20-2016-DDSM-40470\\\\1.000000-cropped images-49088\\\\1-1.dcm',\n",
       " '../../DataSet/tcia_data/CBIS-DDSM\\\\Mass-Training_P_00303_RIGHT_CC_1\\\\07-20-2016-DDSM-32979\\\\1.000000-cropped images-56078\\\\1-1.dcm',\n",
       " '../../DataSet/tcia_data/CBIS-DDSM\\\\Mass-Training_P_00303_RIGHT_MLO_1\\\\07-20-2016-DDSM-54886\\\\1.000000-cropped images-62121\\\\1-1.dcm',\n",
       " '../../DataSet/tcia_data/CBIS-DDSM\\\\Mass-Training_P_00304_LEFT_MLO_1\\\\07-20-2016-DDSM-22956\\\\1.000000-cropped images-68201\\\\1-1.dcm',\n",
       " '../../DataSet/tcia_data/CBIS-DDSM\\\\Mass-Training_P_00384_RIGHT_CC_1\\\\07-20-2016-DDSM-82025\\\\1.000000-cropped images-50747\\\\1-1.dcm',\n",
       " '../../DataSet/tcia_data/CBIS-DDSM\\\\Mass-Training_P_00384_RIGHT_MLO_1\\\\07-20-2016-DDSM-83407\\\\1.000000-cropped images-30655\\\\1-1.dcm',\n",
       " '../../DataSet/tcia_data/CBIS-DDSM\\\\Mass-Training_P_00423_RIGHT_CC_1\\\\07-20-2016-DDSM-74411\\\\1.000000-cropped images-87621\\\\1-1.dcm',\n",
       " '../../DataSet/tcia_data/CBIS-DDSM\\\\Mass-Training_P_00436_LEFT_CC_1\\\\07-20-2016-DDSM-75535\\\\1.000000-cropped images-26415\\\\1-1.dcm',\n",
       " '../../DataSet/tcia_data/CBIS-DDSM\\\\Mass-Training_P_00436_LEFT_MLO_1\\\\07-20-2016-DDSM-56043\\\\1.000000-cropped images-10281\\\\1-1.dcm',\n",
       " '../../DataSet/tcia_data/CBIS-DDSM\\\\Mass-Training_P_00453_LEFT_CC_1\\\\07-20-2016-DDSM-62253\\\\1.000000-cropped images-39893\\\\1-1.dcm',\n",
       " '../../DataSet/tcia_data/CBIS-DDSM\\\\Mass-Training_P_00453_LEFT_MLO_1\\\\07-20-2016-DDSM-52821\\\\1.000000-cropped images-00606\\\\1-1.dcm',\n",
       " '../../DataSet/tcia_data/CBIS-DDSM\\\\Mass-Training_P_00666_RIGHT_CC_1\\\\07-20-2016-DDSM-00398\\\\1.000000-cropped images-13459\\\\1-1.dcm',\n",
       " '../../DataSet/tcia_data/CBIS-DDSM\\\\Mass-Training_P_00666_RIGHT_MLO_1\\\\07-20-2016-DDSM-61644\\\\1.000000-cropped images-46359\\\\1-1.dcm',\n",
       " '../../DataSet/tcia_data/CBIS-DDSM\\\\Mass-Training_P_00687_LEFT_CC_1\\\\07-20-2016-DDSM-25076\\\\1.000000-cropped images-56345\\\\1-1.dcm',\n",
       " '../../DataSet/tcia_data/CBIS-DDSM\\\\Mass-Training_P_00687_LEFT_MLO_1\\\\07-20-2016-DDSM-19749\\\\1.000000-cropped images-96787\\\\1-1.dcm',\n",
       " '../../DataSet/tcia_data/CBIS-DDSM\\\\Mass-Training_P_00694_RIGHT_CC_1\\\\07-20-2016-DDSM-25581\\\\1.000000-cropped images-11647\\\\1-1.dcm',\n",
       " '../../DataSet/tcia_data/CBIS-DDSM\\\\Mass-Training_P_00694_RIGHT_MLO_1\\\\07-20-2016-DDSM-28434\\\\1.000000-cropped images-88617\\\\1-1.dcm',\n",
       " '../../DataSet/tcia_data/CBIS-DDSM\\\\Mass-Training_P_00695_RIGHT_CC_1\\\\07-20-2016-DDSM-58250\\\\1.000000-cropped images-01060\\\\1-1.dcm',\n",
       " '../../DataSet/tcia_data/CBIS-DDSM\\\\Mass-Training_P_00695_RIGHT_MLO_1\\\\07-20-2016-DDSM-26911\\\\1.000000-cropped images-83507\\\\1-1.dcm',\n",
       " '../../DataSet/tcia_data/CBIS-DDSM\\\\Mass-Training_P_00700_RIGHT_CC_1\\\\07-20-2016-DDSM-11919\\\\1.000000-cropped images-55759\\\\1-1.dcm',\n",
       " '../../DataSet/tcia_data/CBIS-DDSM\\\\Mass-Training_P_00700_RIGHT_MLO_1\\\\07-20-2016-DDSM-64600\\\\1.000000-cropped images-07467\\\\1-1.dcm',\n",
       " '../../DataSet/tcia_data/CBIS-DDSM\\\\Mass-Training_P_00703_LEFT_CC_1\\\\07-20-2016-DDSM-97891\\\\1.000000-cropped images-11194\\\\1-1.dcm',\n",
       " '../../DataSet/tcia_data/CBIS-DDSM\\\\Mass-Training_P_00703_LEFT_MLO_1\\\\07-20-2016-DDSM-69832\\\\1.000000-cropped images-36591\\\\1-1.dcm',\n",
       " '../../DataSet/tcia_data/CBIS-DDSM\\\\Mass-Training_P_00715_RIGHT_CC_1\\\\07-20-2016-DDSM-78136\\\\1.000000-cropped images-31431\\\\1-1.dcm',\n",
       " '../../DataSet/tcia_data/CBIS-DDSM\\\\Mass-Training_P_00715_RIGHT_MLO_1\\\\07-20-2016-DDSM-59001\\\\1.000000-cropped images-65282\\\\1-1.dcm',\n",
       " '../../DataSet/tcia_data/CBIS-DDSM\\\\Mass-Training_P_00765_RIGHT_CC_1\\\\07-20-2016-DDSM-22028\\\\1.000000-cropped images-50377\\\\1-1.dcm',\n",
       " '../../DataSet/tcia_data/CBIS-DDSM\\\\Mass-Training_P_00765_RIGHT_MLO_1\\\\07-20-2016-DDSM-80325\\\\1.000000-cropped images-58263\\\\1-1.dcm',\n",
       " '../../DataSet/tcia_data/CBIS-DDSM\\\\Mass-Training_P_00826_LEFT_CC_1\\\\07-20-2016-DDSM-78220\\\\1.000000-cropped images-99992\\\\1-1.dcm',\n",
       " '../../DataSet/tcia_data/CBIS-DDSM\\\\Mass-Training_P_00826_LEFT_MLO_1\\\\07-20-2016-DDSM-10411\\\\1.000000-cropped images-25787\\\\1-1.dcm',\n",
       " '../../DataSet/tcia_data/CBIS-DDSM\\\\Mass-Training_P_00841_RIGHT_CC_1\\\\07-20-2016-DDSM-70734\\\\1.000000-cropped images-93414\\\\1-1.dcm',\n",
       " '../../DataSet/tcia_data/CBIS-DDSM\\\\Mass-Training_P_00841_RIGHT_MLO_1\\\\07-20-2016-DDSM-66928\\\\1.000000-cropped images-92942\\\\1-1.dcm',\n",
       " '../../DataSet/tcia_data/CBIS-DDSM\\\\Mass-Training_P_00859_LEFT_CC_1\\\\07-20-2016-DDSM-60813\\\\1.000000-cropped images-47792\\\\1-1.dcm',\n",
       " '../../DataSet/tcia_data/CBIS-DDSM\\\\Mass-Training_P_00859_LEFT_MLO_1\\\\07-20-2016-DDSM-15402\\\\1.000000-cropped images-02883\\\\1-1.dcm',\n",
       " '../../DataSet/tcia_data/CBIS-DDSM\\\\Mass-Training_P_00915_RIGHT_CC_1\\\\07-20-2016-DDSM-52667\\\\1.000000-cropped images-86876\\\\1-1.dcm',\n",
       " '../../DataSet/tcia_data/CBIS-DDSM\\\\Mass-Training_P_00915_RIGHT_MLO_1\\\\07-20-2016-DDSM-26210\\\\1.000000-cropped images-36527\\\\1-1.dcm',\n",
       " '../../DataSet/tcia_data/CBIS-DDSM\\\\Mass-Training_P_00949_LEFT_CC_1\\\\07-20-2016-DDSM-25899\\\\1.000000-cropped images-20871\\\\1-1.dcm',\n",
       " '../../DataSet/tcia_data/CBIS-DDSM\\\\Mass-Training_P_00949_LEFT_MLO_1\\\\07-20-2016-DDSM-10656\\\\1.000000-cropped images-53638\\\\1-1.dcm',\n",
       " '../../DataSet/tcia_data/CBIS-DDSM\\\\Mass-Training_P_01032_RIGHT_CC_1\\\\07-20-2016-DDSM-25288\\\\1.000000-cropped images-35280\\\\1-1.dcm',\n",
       " '../../DataSet/tcia_data/CBIS-DDSM\\\\Mass-Training_P_01048_RIGHT_CC_1\\\\07-20-2016-DDSM-88224\\\\1.000000-cropped images-95652\\\\1-1.dcm',\n",
       " '../../DataSet/tcia_data/CBIS-DDSM\\\\Mass-Training_P_01048_RIGHT_MLO_1\\\\07-20-2016-DDSM-36529\\\\1.000000-cropped images-15954\\\\1-1.dcm',\n",
       " '../../DataSet/tcia_data/CBIS-DDSM\\\\Mass-Training_P_01115_RIGHT_CC_1\\\\07-20-2016-DDSM-33891\\\\1.000000-cropped images-73017\\\\1-1.dcm',\n",
       " '../../DataSet/tcia_data/CBIS-DDSM\\\\Mass-Training_P_01115_RIGHT_MLO_1\\\\07-20-2016-DDSM-21376\\\\1.000000-cropped images-45787\\\\1-1.dcm',\n",
       " '../../DataSet/tcia_data/CBIS-DDSM\\\\Mass-Training_P_01182_LEFT_CC_1\\\\07-20-2016-DDSM-40599\\\\1.000000-cropped images-34088\\\\1-1.dcm',\n",
       " '../../DataSet/tcia_data/CBIS-DDSM\\\\Mass-Training_P_01182_LEFT_MLO_1\\\\07-20-2016-DDSM-05316\\\\1.000000-cropped images-92113\\\\1-1.dcm',\n",
       " '../../DataSet/tcia_data/CBIS-DDSM\\\\Mass-Training_P_01221_LEFT_CC_1\\\\07-20-2016-DDSM-79899\\\\1.000000-cropped images-67648\\\\1-1.dcm',\n",
       " '../../DataSet/tcia_data/CBIS-DDSM\\\\Mass-Training_P_01221_LEFT_MLO_1\\\\07-20-2016-DDSM-68466\\\\1.000000-cropped images-80378\\\\1-1.dcm',\n",
       " '../../DataSet/tcia_data/CBIS-DDSM\\\\Mass-Training_P_01225_RIGHT_CC_1\\\\07-20-2016-DDSM-11084\\\\1.000000-cropped images-04596\\\\1-1.dcm',\n",
       " '../../DataSet/tcia_data/CBIS-DDSM\\\\Mass-Training_P_01225_RIGHT_MLO_1\\\\07-20-2016-DDSM-25090\\\\1.000000-cropped images-11029\\\\1-1.dcm',\n",
       " '../../DataSet/tcia_data/CBIS-DDSM\\\\Mass-Training_P_01243_LEFT_CC_1\\\\07-20-2016-DDSM-52248\\\\1.000000-cropped images-97698\\\\1-1.dcm',\n",
       " '../../DataSet/tcia_data/CBIS-DDSM\\\\Mass-Training_P_01243_LEFT_MLO_1\\\\07-20-2016-DDSM-93981\\\\1.000000-cropped images-31065\\\\1-1.dcm',\n",
       " '../../DataSet/tcia_data/CBIS-DDSM\\\\Mass-Training_P_01265_RIGHT_CC_1\\\\07-20-2016-DDSM-43232\\\\1.000000-cropped images-52337\\\\1-1.dcm',\n",
       " '../../DataSet/tcia_data/CBIS-DDSM\\\\Mass-Training_P_01265_RIGHT_MLO_1\\\\07-20-2016-DDSM-77819\\\\1.000000-cropped images-56304\\\\1-1.dcm',\n",
       " '../../DataSet/tcia_data/CBIS-DDSM\\\\Mass-Training_P_01363_RIGHT_CC_1\\\\07-20-2016-DDSM-94758\\\\1.000000-cropped images-64785\\\\1-1.dcm',\n",
       " '../../DataSet/tcia_data/CBIS-DDSM\\\\Mass-Training_P_01363_RIGHT_MLO_1\\\\07-20-2016-DDSM-79873\\\\1.000000-cropped images-78386\\\\1-1.dcm',\n",
       " '../../DataSet/tcia_data/CBIS-DDSM\\\\Mass-Training_P_01423_RIGHT_CC_1\\\\07-20-2016-DDSM-85461\\\\1.000000-cropped images-52351\\\\1-1.dcm',\n",
       " '../../DataSet/tcia_data/CBIS-DDSM\\\\Mass-Training_P_01423_RIGHT_MLO_1\\\\07-20-2016-DDSM-60156\\\\1.000000-cropped images-12230\\\\1-1.dcm',\n",
       " '../../DataSet/tcia_data/CBIS-DDSM\\\\Mass-Training_P_01486_RIGHT_CC_1\\\\07-20-2016-DDSM-43488\\\\1.000000-cropped images-22063\\\\1-1.dcm',\n",
       " '../../DataSet/tcia_data/CBIS-DDSM\\\\Mass-Training_P_01486_RIGHT_MLO_1\\\\07-20-2016-DDSM-60782\\\\1.000000-cropped images-79059\\\\1-1.dcm',\n",
       " '../../DataSet/tcia_data/CBIS-DDSM\\\\Mass-Training_P_01567_LEFT_MLO_1\\\\07-20-2016-DDSM-65064\\\\1.000000-cropped images-29658\\\\1-1.dcm',\n",
       " '../../DataSet/tcia_data/CBIS-DDSM\\\\Mass-Training_P_01686_RIGHT_CC_1\\\\07-20-2016-DDSM-13613\\\\1.000000-cropped images-05856\\\\1-1.dcm',\n",
       " '../../DataSet/tcia_data/CBIS-DDSM\\\\Mass-Training_P_01686_RIGHT_MLO_1\\\\07-20-2016-DDSM-78491\\\\1.000000-cropped images-16114\\\\1-1.dcm',\n",
       " '../../DataSet/tcia_data/CBIS-DDSM\\\\Mass-Training_P_01698_RIGHT_CC_1\\\\07-20-2016-DDSM-88131\\\\1.000000-cropped images-69494\\\\1-1.dcm',\n",
       " '../../DataSet/tcia_data/CBIS-DDSM\\\\Mass-Training_P_01698_RIGHT_MLO_1\\\\07-20-2016-DDSM-96426\\\\1.000000-cropped images-53127\\\\1-1.dcm',\n",
       " '../../DataSet/tcia_data/CBIS-DDSM\\\\Mass-Training_P_01714_RIGHT_CC_1\\\\07-20-2016-DDSM-89670\\\\1.000000-cropped images-29980\\\\1-1.dcm',\n",
       " '../../DataSet/tcia_data/CBIS-DDSM\\\\Mass-Training_P_01714_RIGHT_MLO_1\\\\07-20-2016-DDSM-94608\\\\1.000000-cropped images-61044\\\\1-1.dcm',\n",
       " '../../DataSet/tcia_data/CBIS-DDSM\\\\Mass-Training_P_01717_LEFT_CC_1\\\\07-20-2016-DDSM-91013\\\\1.000000-cropped images-31150\\\\1-1.dcm',\n",
       " '../../DataSet/tcia_data/CBIS-DDSM\\\\Mass-Training_P_01717_LEFT_MLO_1\\\\07-20-2016-DDSM-13108\\\\1.000000-cropped images-96740\\\\1-1.dcm',\n",
       " '../../DataSet/tcia_data/CBIS-DDSM\\\\Mass-Training_P_01751_LEFT_CC_1\\\\07-20-2016-DDSM-65468\\\\1.000000-cropped images-59141\\\\1-1.dcm',\n",
       " '../../DataSet/tcia_data/CBIS-DDSM\\\\Mass-Training_P_01751_LEFT_MLO_1\\\\07-20-2016-DDSM-54469\\\\1.000000-cropped images-19178\\\\1-1.dcm',\n",
       " '../../DataSet/tcia_data/CBIS-DDSM\\\\Mass-Training_P_01757_RIGHT_CC_1\\\\07-20-2016-DDSM-35192\\\\1.000000-cropped images-25368\\\\1-1.dcm',\n",
       " '../../DataSet/tcia_data/CBIS-DDSM\\\\Mass-Training_P_01757_RIGHT_MLO_1\\\\07-20-2016-DDSM-92467\\\\1.000000-cropped images-54295\\\\1-1.dcm',\n",
       " '../../DataSet/tcia_data/CBIS-DDSM\\\\Mass-Training_P_01831_RIGHT_CC_1\\\\07-20-2016-DDSM-86435\\\\1.000000-cropped images-10446\\\\1-1.dcm',\n",
       " '../../DataSet/tcia_data/CBIS-DDSM\\\\Mass-Training_P_01831_RIGHT_MLO_1\\\\07-20-2016-DDSM-13878\\\\1.000000-cropped images-27556\\\\1-1.dcm',\n",
       " '../../DataSet/tcia_data/CBIS-DDSM\\\\Mass-Training_P_01908_LEFT_CC_1\\\\07-20-2016-DDSM-51708\\\\1.000000-cropped images-70169\\\\1-1.dcm',\n",
       " '../../DataSet/tcia_data/CBIS-DDSM\\\\Mass-Training_P_01946_RIGHT_MLO_1\\\\07-20-2016-DDSM-93851\\\\1.000000-cropped images-60329\\\\1-1.dcm',\n",
       " '../../DataSet/tcia_data/CBIS-DDSM\\\\Mass-Training_P_01981_RIGHT_CC_1\\\\07-20-2016-DDSM-71504\\\\1.000000-cropped images-69072\\\\1-1.dcm',\n",
       " '../../DataSet/tcia_data/CBIS-DDSM\\\\Mass-Training_P_01981_RIGHT_MLO_1\\\\07-20-2016-DDSM-51086\\\\1.000000-cropped images-62790\\\\1-1.dcm',\n",
       " '../../DataSet/tcia_data/CBIS-DDSM\\\\Mass-Training_P_01983_LEFT_MLO_1\\\\07-20-2016-DDSM-00487\\\\1.000000-cropped images-97782\\\\1-1.dcm',\n",
       " '../../DataSet/tcia_data/CBIS-DDSM\\\\Mass-Training_P_02033_RIGHT_CC_1\\\\07-20-2016-DDSM-33450\\\\1.000000-cropped images-92506\\\\1-1.dcm',\n",
       " '../../DataSet/tcia_data/CBIS-DDSM\\\\Mass-Training_P_02033_RIGHT_MLO_1\\\\07-20-2016-DDSM-43704\\\\1.000000-cropped images-29981\\\\1-1.dcm',\n",
       " '../../DataSet/tcia_data/CBIS-DDSM\\\\Mass-Training_P_02079_RIGHT_CC_1\\\\07-20-2016-DDSM-86736\\\\1.000000-cropped images-36808\\\\1-1.dcm',\n",
       " '../../DataSet/tcia_data/CBIS-DDSM\\\\Mass-Training_P_02079_RIGHT_MLO_1\\\\07-20-2016-DDSM-64738\\\\1.000000-cropped images-78743\\\\1-1.dcm',\n",
       " '../../DataSet/tcia_data/CBIS-DDSM\\\\Mass-Training_P_02092_LEFT_CC_1\\\\07-20-2016-DDSM-75288\\\\1.000000-cropped images-03171\\\\1-1.dcm',\n",
       " '../../DataSet/tcia_data/CBIS-DDSM\\\\Mass-Training_P_02092_LEFT_MLO_1\\\\07-20-2016-DDSM-20213\\\\1.000000-cropped images-58924\\\\1-1.dcm']"
      ]
     },
     "execution_count": 84,
     "metadata": {},
     "output_type": "execute_result"
    }
   ],
   "source": [
    "cropped_img"
   ]
  },
  {
   "cell_type": "code",
   "execution_count": null,
   "metadata": {},
   "outputs": [],
   "source": []
  }
 ],
 "metadata": {
  "kernelspec": {
   "display_name": "Python 3",
   "language": "python",
   "name": "python3"
  },
  "language_info": {
   "codemirror_mode": {
    "name": "ipython",
    "version": 3
   },
   "file_extension": ".py",
   "mimetype": "text/x-python",
   "name": "python",
   "nbconvert_exporter": "python",
   "pygments_lexer": "ipython3",
   "version": "3.7.7"
  }
 },
 "nbformat": 4,
 "nbformat_minor": 4
}
